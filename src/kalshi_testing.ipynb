{
 "cells": [
  {
   "cell_type": "code",
   "execution_count": 1,
   "metadata": {},
   "outputs": [
    {
     "name": "stderr",
     "output_type": "stream",
     "text": [
      "/Users/MilesChild/Library/Python/3.8/lib/python/site-packages/urllib3/__init__.py:34: NotOpenSSLWarning: urllib3 v2.0 only supports OpenSSL 1.1.1+, currently the 'ssl' module is compiled with 'LibreSSL 2.8.3'. See: https://github.com/urllib3/urllib3/issues/3020\n",
      "  warnings.warn(\n"
     ]
    }
   ],
   "source": [
    "import kalshi_python\n",
    "from credentials import EMAIL, PW\n",
    "\n",
    "config = kalshi_python.Configuration()\n",
    "config.host = \"https://trading-api.kalshi.com/trade-api/v2\"\n",
    "\n",
    "kalshi_api = kalshi_python.ApiInstance(\n",
    "email=EMAIL,\n",
    "password=PW,\n",
    "configuration=config,\n",
    ")"
   ]
  },
  {
   "cell_type": "code",
   "execution_count": 2,
   "metadata": {},
   "outputs": [],
   "source": [
    "TICKER = \"VULTURES-24JAN12\""
   ]
  },
  {
   "cell_type": "code",
   "execution_count": 8,
   "metadata": {},
   "outputs": [
    {
     "data": {
      "text/plain": [
       "int"
      ]
     },
     "execution_count": 8,
     "metadata": {},
     "output_type": "execute_result"
    }
   ],
   "source": [
    "# get_last\n",
    "\n",
    "market_response = kalshi_api.get_market(TICKER)\n",
    "market = market_response.market\n",
    "last_px = market.last_price"
   ]
  },
  {
   "cell_type": "code",
   "execution_count": 59,
   "metadata": {},
   "outputs": [
    {
     "name": "stdout",
     "output_type": "stream",
     "text": [
      "27 29\n"
     ]
    }
   ],
   "source": [
    "# get_orderbook\n",
    "\n",
    "orderbook_response = kalshi_api.get_market_orderbook(TICKER)\n",
    "orderbook = orderbook_response.orderbook\n",
    "type(orderbook)\n",
    "if len(orderbook.yes) > 0:\n",
    "    best_bid = max(orderbook.yes, key=lambda x: x[0])[0]\n",
    "else:\n",
    "    best_bid = 0\n",
    "if len(orderbook.no) > 0:\n",
    "    best_offer = 100 - max(orderbook.no, key=lambda x: x[0])[0]\n",
    "else:\n",
    "    best_offer = 0\n",
    "print(best_bid, best_offer)"
   ]
  },
  {
   "cell_type": "code",
   "execution_count": 45,
   "metadata": {},
   "outputs": [
    {
     "name": "stdout",
     "output_type": "stream",
     "text": [
      "{'fees_paid': 9,\n",
      " 'market_exposure': 73,\n",
      " 'position': -1,\n",
      " 'realized_pnl': -4,\n",
      " 'resting_orders_count': 1,\n",
      " 'ticker': 'VULTURES-24JAN12',\n",
      " 'total_traded': 277}\n"
     ]
    },
    {
     "data": {
      "text/plain": [
       "-1"
      ]
     },
     "execution_count": 45,
     "metadata": {},
     "output_type": "execute_result"
    }
   ],
   "source": [
    "# get_inventory\n",
    "\n",
    "TICKER2 = \"VULTURES-23JAN31\"\n",
    "\n",
    "inventory_response = kalshi_api.get_positions(ticker=TICKER)\n",
    "# inventory_response.market_positions[0]\n",
    "# inventory_response.market_position\n",
    "position = 0\n",
    "for posn in inventory_response.market_positions:\n",
    "    print(posn)\n",
    "    if posn.ticker == TICKER:\n",
    "        position += posn.position\n",
    "position"
   ]
  },
  {
   "cell_type": "code",
   "execution_count": 48,
   "metadata": {},
   "outputs": [],
   "source": [
    "# get open orders\n",
    "\n",
    "get_orders_response = kalshi_api.get_orders(ticker=TICKER)\n",
    "for order in get_orders_response.orders:\n",
    "    if order['status'] == \"resting\":\n",
    "        print(order)"
   ]
  },
  {
   "cell_type": "code",
   "execution_count": 43,
   "metadata": {},
   "outputs": [
    {
     "data": {
      "text/plain": [
       "{'order': {'action': 'buy',\n",
       "           'client_order_id': '1f61ec83-9909-4fac-b933-b18f7f735839',\n",
       "           'created_time': '2023-12-27T00:34:26.21883Z',\n",
       "           'expiration_time': None,\n",
       "           'no_price': 72,\n",
       "           'order_id': '39a5f89f-3daf-4267-9921-e8119fc7b8c1',\n",
       "           'side': 'yes',\n",
       "           'status': 'resting',\n",
       "           'ticker': 'VULTURES-24JAN12',\n",
       "           'type': 'limit',\n",
       "           'user_id': '066cb11c-d233-4566-98dd-f53178e467a6',\n",
       "           'yes_price': 28}}"
      ]
     },
     "execution_count": 43,
     "metadata": {},
     "output_type": "execute_result"
    }
   ],
   "source": [
    "# place_order\n",
    "import uuid\n",
    "\n",
    "yes_order = {'action': 'buy', 'type': 'limit', 'ticker': TICKER, 'count': 1, 'side': 'yes', 'yes_price': 28, 'client_order_id': str(uuid.uuid4())}\n",
    "no_order = {'action': 'buy', 'type': 'limit', 'ticker': TICKER, 'count': 1, 'side': 'no', 'no_price': 77}\n",
    "\n",
    "order_response = kalshi_api.create_order(yes_order)\n",
    "order_response"
   ]
  },
  {
   "cell_type": "code",
   "execution_count": 47,
   "metadata": {},
   "outputs": [
    {
     "data": {
      "text/plain": [
       "{'order': {'action': 'buy',\n",
       "           'client_order_id': '1f61ec83-9909-4fac-b933-b18f7f735839',\n",
       "           'close_cancel_count': 0,\n",
       "           'created_time': '2023-12-27T00:34:26.21883Z',\n",
       "           'decrease_count': 1,\n",
       "           'expiration_time': None,\n",
       "           'fcc_cancel_count': 0,\n",
       "           'last_update_time': '2023-12-27T00:35:18.703383Z',\n",
       "           'maker_fill_count': 0,\n",
       "           'no_price': 72,\n",
       "           'order_id': '39a5f89f-3daf-4267-9921-e8119fc7b8c1',\n",
       "           'place_count': 1,\n",
       "           'queue_position': 0,\n",
       "           'remaining_count': 0,\n",
       "           'side': 'yes',\n",
       "           'status': 'canceled',\n",
       "           'taker_fees': 0,\n",
       "           'taker_fill_cost': 0,\n",
       "           'taker_fill_count': 0,\n",
       "           'ticker': 'VULTURES-24JAN12',\n",
       "           'type': 'limit',\n",
       "           'user_id': '066cb11c-d233-4566-98dd-f53178e467a6',\n",
       "           'yes_price': 28},\n",
       " 'reduced_by': 1}"
      ]
     },
     "execution_count": 47,
     "metadata": {},
     "output_type": "execute_result"
    }
   ],
   "source": [
    "# cancel order\n",
    "\n",
    "ID = \"39a5f89f-3daf-4267-9921-e8119fc7b8c1\"\n",
    "\n",
    "cancel_response = kalshi_api.cancel_order(ID)\n",
    "cancel_response"
   ]
  }
 ],
 "metadata": {
  "kernelspec": {
   "display_name": "Python 3",
   "language": "python",
   "name": "python3"
  },
  "language_info": {
   "codemirror_mode": {
    "name": "ipython",
    "version": 3
   },
   "file_extension": ".py",
   "mimetype": "text/x-python",
   "name": "python",
   "nbconvert_exporter": "python",
   "pygments_lexer": "ipython3",
   "version": "3.8.9"
  },
  "orig_nbformat": 4
 },
 "nbformat": 4,
 "nbformat_minor": 2
}
